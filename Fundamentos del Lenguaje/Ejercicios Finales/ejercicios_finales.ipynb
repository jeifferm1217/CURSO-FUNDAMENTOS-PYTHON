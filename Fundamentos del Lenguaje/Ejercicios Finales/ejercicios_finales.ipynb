{
  "cells": [
    {
      "cell_type": "markdown",
      "metadata": {
        "id": "9bLURknHG1ht"
      },
      "source": [
        "# Ejercicios para aplicar funciones, estructuras de control, colecciones, módulos y manejo de excepciones\n",
        "\n",
        "---\n",
        "\n",
        "## Ejercicio 1: Calculadora Avanzada\n",
        "\n",
        "**Descripción:**  \n",
        "Crea una función que actúe como calculadora. La función recibirá dos números y un operador (por ejemplo, '+', '-', '*', '/', '**', '//') para realizar la operación correspondiente.  \n",
        "- Utiliza estructuras de control (if/else) para seleccionar la operación a realizar.  \n",
        "- Usa manejo de excepciones para controlar errores como la división por cero y entradas no numéricas.  \n",
        "- Puedes importar el módulo `math` para operaciones adicionales si es necesario.\n",
        "\n",
        "**Ejemplo de salida:**  \n",
        "\n",
        "Ingrese el primer número: 10\n",
        "Ingrese el segundo número: 5\n",
        "Ingrese el operador (+, -, *, /, **, //): /\n",
        "Resultado: 10 / 5 = 2.0"
      ]
    },
    {
      "cell_type": "code",
      "source": [
        "%%writefile conversiones.py\n",
        "\n",
        "\n",
        "def cm_a_pulgadas(cm):\n",
        "    return cm / 2.54\n",
        "\n",
        "def pulgadas_a_cm(pulgadas):\n",
        "    return pulgadas * 2.54\n",
        "\n",
        "def metros_a_pies(metros):\n",
        "    return metros * 3.281\n",
        "\n",
        "def pies_a_metros(pies):\n",
        "    return pies / 3.281\n"
      ],
      "metadata": {
        "colab": {
          "base_uri": "https://localhost:8080/"
        },
        "id": "vc5Adg8mMVBw",
        "outputId": "b905a41e-ebb9-4f50-ecaa-afcacfab1c66"
      },
      "execution_count": 3,
      "outputs": [
        {
          "output_type": "stream",
          "name": "stdout",
          "text": [
            "Writing conversiones.py\n"
          ]
        }
      ]
    },
    {
      "cell_type": "code",
      "execution_count": 1,
      "metadata": {
        "colab": {
          "base_uri": "https://localhost:8080/",
          "height": 470
        },
        "id": "WR6hxdkcHhLn",
        "outputId": "099159eb-6d2c-44dc-c9cb-e24aa05f2169"
      },
      "outputs": [
        {
          "output_type": "error",
          "ename": "ModuleNotFoundError",
          "evalue": "No module named 'Matematicas'",
          "traceback": [
            "\u001b[0;31m---------------------------------------------------------------------------\u001b[0m",
            "\u001b[0;31mModuleNotFoundError\u001b[0m                       Traceback (most recent call last)",
            "\u001b[0;32m<ipython-input-1-1a9f6d1adca4>\u001b[0m in \u001b[0;36m<cell line: 0>\u001b[0;34m()\u001b[0m\n\u001b[1;32m     23\u001b[0m         \u001b[0mprint\u001b[0m\u001b[0;34m(\u001b[0m\u001b[0;34m\"Error: No se puede dividir por cero.\"\u001b[0m\u001b[0;34m)\u001b[0m\u001b[0;34m\u001b[0m\u001b[0;34m\u001b[0m\u001b[0m\n\u001b[1;32m     24\u001b[0m \u001b[0;34m\u001b[0m\u001b[0m\n\u001b[0;32m---> 25\u001b[0;31m \u001b[0mcalculadora\u001b[0m\u001b[0;34m(\u001b[0m\u001b[0;34m)\u001b[0m\u001b[0;34m\u001b[0m\u001b[0;34m\u001b[0m\u001b[0m\n\u001b[0m",
            "\u001b[0;32m<ipython-input-1-1a9f6d1adca4>\u001b[0m in \u001b[0;36mcalculadora\u001b[0;34m()\u001b[0m\n\u001b[1;32m      1\u001b[0m \u001b[0;32mdef\u001b[0m \u001b[0mcalculadora\u001b[0m\u001b[0;34m(\u001b[0m\u001b[0;34m)\u001b[0m\u001b[0;34m:\u001b[0m\u001b[0;34m\u001b[0m\u001b[0;34m\u001b[0m\u001b[0m\n\u001b[0;32m----> 2\u001b[0;31m     \u001b[0;32mfrom\u001b[0m \u001b[0mMatematicas\u001b[0m \u001b[0;32mimport\u001b[0m \u001b[0msuma\u001b[0m\u001b[0;34m,\u001b[0m \u001b[0mresta\u001b[0m\u001b[0;34m,\u001b[0m \u001b[0mmultiplicacion\u001b[0m\u001b[0;34m,\u001b[0m \u001b[0mdivision\u001b[0m\u001b[0;34m\u001b[0m\u001b[0;34m\u001b[0m\u001b[0m\n\u001b[0m\u001b[1;32m      3\u001b[0m     \u001b[0;32mtry\u001b[0m\u001b[0;34m:\u001b[0m\u001b[0;34m\u001b[0m\u001b[0;34m\u001b[0m\u001b[0m\n\u001b[1;32m      4\u001b[0m         \u001b[0mvalor1\u001b[0m \u001b[0;34m=\u001b[0m \u001b[0mint\u001b[0m\u001b[0;34m(\u001b[0m\u001b[0minput\u001b[0m\u001b[0;34m(\u001b[0m\u001b[0;34m\"Ingrese el primer número: \"\u001b[0m\u001b[0;34m)\u001b[0m\u001b[0;34m)\u001b[0m\u001b[0;34m\u001b[0m\u001b[0;34m\u001b[0m\u001b[0m\n\u001b[1;32m      5\u001b[0m         \u001b[0mvalor2\u001b[0m \u001b[0;34m=\u001b[0m \u001b[0mint\u001b[0m\u001b[0;34m(\u001b[0m\u001b[0minput\u001b[0m\u001b[0;34m(\u001b[0m\u001b[0;34m\"Ingrese el segundo número: \"\u001b[0m\u001b[0;34m)\u001b[0m\u001b[0;34m)\u001b[0m\u001b[0;34m\u001b[0m\u001b[0;34m\u001b[0m\u001b[0m\n",
            "\u001b[0;31mModuleNotFoundError\u001b[0m: No module named 'Matematicas'",
            "",
            "\u001b[0;31m---------------------------------------------------------------------------\u001b[0;32m\nNOTE: If your import is failing due to a missing package, you can\nmanually install dependencies using either !pip or !apt.\n\nTo view examples of installing some common dependencies, click the\n\"Open Examples\" button below.\n\u001b[0;31m---------------------------------------------------------------------------\u001b[0m\n"
          ],
          "errorDetails": {
            "actions": [
              {
                "action": "open_url",
                "actionText": "Open Examples",
                "url": "/notebooks/snippets/importing_libraries.ipynb"
              }
            ]
          }
        }
      ],
      "source": [
        "def calculadora():\n",
        "    from matematicas import suma, resta, multiplicacion, division\n",
        "    try:\n",
        "        valor1 = int(input(\"Ingrese el primer número: \"))\n",
        "        valor2 = int(input(\"Ingrese el segundo número: \"))\n",
        "        operador = input(\"Ingrese el operador (+, -, *, /): \")\n",
        "\n",
        "        if operador == \"+\":\n",
        "            print(\"El resultado de la suma es\", suma(valor1, valor2))\n",
        "        elif operador == \"-\":\n",
        "            print(\"El resultado de la resta es\", resta(valor1, valor2))\n",
        "        elif operador == \"*\":\n",
        "            print(\"El resultado de la multiplicación es\", multiplicacion(valor1, valor2))\n",
        "        elif operador == \"/\":\n",
        "            resultado = division(valor1, valor2)\n",
        "            print(\"El resultado de la división es\", resultado)\n",
        "        else:\n",
        "            print(\"Operador no válido\")\n",
        "\n",
        "    except ValueError:\n",
        "        print(\"Error: Debe ingresar solo números.\")\n",
        "    except ZeroDivisionError:\n",
        "        print(\"Error: No se puede dividir por cero.\")\n",
        "\n",
        "calculadora()\n"
      ]
    },
    {
      "cell_type": "markdown",
      "metadata": {
        "id": "T95x5iV9G1hv"
      },
      "source": [
        "\n",
        "---\n",
        "\n",
        "## Ejercicio 2: Administrador de Inventarios\n",
        "\n",
        "**Descripción:**  \n",
        "Desarrolla un sistema para gestionar el inventario de productos usando un diccionario donde cada clave es el nombre del producto y su valor la cantidad en stock.  \n",
        "- Implementa funciones para agregar, actualizar y eliminar productos.  \n",
        "- Utiliza estructuras de control para recorrer y mostrar el inventario.  \n",
        "- Incluye manejo de excepciones para capturar intentos de actualizar o eliminar un producto inexistente.\n",
        "\n",
        "**Ejemplo de salida:**  \n",
        "Inventario inicial: {'manzanas': 50, 'naranjas': 30, 'peras': 20}\n",
        "Actualizando stock de 'peras' a 25...\n",
        "Producto 'bananas' agregado con 40 unidades.\n",
        "Eliminando 'naranjas'...\n",
        "Inventario final: {'manzanas': 50, 'peras': 25, 'bananas': 40}"
      ]
    },
    {
      "cell_type": "code",
      "execution_count": null,
      "metadata": {
        "colab": {
          "base_uri": "https://localhost:8080/"
        },
        "collapsed": true,
        "id": "ctP7ubynd5JB",
        "outputId": "1a3c9cc6-8a39-4ee7-9d30-8eed2e1a89f9"
      },
      "outputs": [
        {
          "name": "stdout",
          "output_type": "stream",
          "text": [
            "Inventario inicial: {'manzanas': 50, 'naranjas': 30, 'peras': 20}\n",
            "Actualizando stock de 'manzanas' a 90...\n",
            "Producto 'bananas'agregado con 40 unidades.\n",
            "Eliminando 'kiwi'...\n",
            "\"Error: El producto 'kiwi' no se puede eliminar porque no existe.\"\n",
            "Inventario final: {'manzanas': 90, 'naranjas': 30, 'peras': 20, 'bananas': 40}\n"
          ]
        }
      ],
      "source": [
        "\n",
        "inventario ={'manzanas': 50, 'naranjas': 30, 'peras': 20}\n",
        "\n",
        "\n",
        "\n",
        "def mostrar_inventario(mensaje):\n",
        "    print(f\"{mensaje} {inventario}\")\n",
        "\n",
        "def actualizar_producto(nombre, cantidad):\n",
        "    try:\n",
        "        if nombre in inventario:\n",
        "            print(f\"Actualizando stock de '{nombre}' a {cantidad}...\")\n",
        "            inventario[nombre] = cantidad\n",
        "        else:\n",
        "            raise KeyError(f\"Error: El producto '{nombre}' no existe en el inventario\")\n",
        "    except KeyError as e:\n",
        "        print(e)\n",
        "def agregar_producto(nombre, cantidad):\n",
        "    print(f\"Producto '{nombre}'agregado con {cantidad} unidades.\")\n",
        "    inventario[nombre] = cantidad\n",
        "\n",
        "def eliminar_producto(nombre):\n",
        "    try:\n",
        "        print(f\"Eliminando '{nombre}'...\")\n",
        "        if nombre in inventario:\n",
        "            del inventario[nombre]\n",
        "        else:\n",
        "            raise KeyError(f\"Error: El producto '{nombre}' no se puede eliminar porque no existe.\")\n",
        "    except KeyError as e:\n",
        "        print(e)\n",
        "\n",
        "mostrar_inventario(\"Inventario inicial:\")\n",
        "\n",
        "actualizar_producto(\"manzanas\", 90)\n",
        "\n",
        "agregar_producto(\"bananas\", 40)\n",
        "\n",
        "eliminar_producto(\"kiwi\")\n",
        "\n",
        "mostrar_inventario(\"Inventario final:\")\n"
      ]
    },
    {
      "cell_type": "markdown",
      "metadata": {
        "id": "ZfafuICTG1hw"
      },
      "source": [
        "\n",
        "---\n",
        "\n",
        "## Ejercicio 3: Análisis de Texto\n",
        "\n",
        "**Descripción:**  \n",
        "Crea una función que reciba una cadena de texto y calcule la frecuencia de cada palabra en el mismo.  \n",
        "- Convierte el texto a minúsculas y separa las palabras usando algún método (puedes utilizar expresiones regulares con el módulo `re`).  \n",
        "- Emplea un diccionario para almacenar la palabra (clave) y su frecuencia (valor).  \n",
        "- Controla excepciones en caso de que el usuario no ingrese ningún texto o ingrese caracteres inesperados.\n",
        "\n",
        "**Ejemplo de salida:**  \n",
        "Ingrese un texto: \"Hola mundo, hola a todos en el mundo\"\n",
        "Frecuencia de palabras: hola: 2\n",
        "mundo: 2\n",
        "a: 1\n",
        "todos: 1\n",
        "en: 1\n",
        "el: 1"
      ]
    },
    {
      "cell_type": "code",
      "execution_count": null,
      "metadata": {
        "colab": {
          "base_uri": "https://localhost:8080/"
        },
        "id": "Cw1O19VkzapK",
        "outputId": "62758e9b-a5a2-462d-84a9-0540d1901597"
      },
      "outputs": [
        {
          "name": "stdout",
          "output_type": "stream",
          "text": [
            "Frecuencia de palabras:\n",
            "hola: 2\n",
            "mundo: 2\n",
            "a: 1\n",
            "tods: 1\n",
            "en: 1\n",
            "el: 1\n"
          ]
        }
      ],
      "source": [
        "def analisar_texto():\n",
        "    import re\n",
        "    try:\n",
        "        texto = input(\"Ingrese un texto: \")\n",
        "\n",
        "        if not texto.strip():\n",
        "            raise ValueError(\"No se ingresó ningún texto.\")\n",
        "        texto_minusculas = texto.lower()\n",
        "        palabras = re.findall(r'\\w+', texto_minusculas)\n",
        "        frecuencia = {}\n",
        "\n",
        "        for i in palabras:\n",
        "            if i in frecuencia:\n",
        "                frecuencia[i] += 1\n",
        "            else:\n",
        "                frecuencia[i] = 1\n",
        "        print(\"Frecuencia de palabras:\")\n",
        "        for palabra, cantidad in frecuencia.items():\n",
        "            print(f\"{palabra}: {cantidad}\")\n",
        "\n",
        "    except ValueError as ve:\n",
        "        print(\"Error:\", ve)\n",
        "\n",
        "    except Exception as e:\n",
        "        print(\"Ocurrió un error inesperado:\", e)\n",
        "\n",
        "analisar_texto()\n"
      ]
    },
    {
      "cell_type": "markdown",
      "metadata": {
        "id": "Su4Y1HHpG1hx"
      },
      "source": [
        "\n",
        "---\n",
        "\n",
        "## Ejercicio 4: Conversor de Unidades\n",
        "\n",
        "**Descripción:**  \n",
        "Desarrolla un conjunto de funciones para convertir unidades métricas. Por ejemplo:  \n",
        "- De centímetros a pulgadas.  \n",
        "- De kilómetros a millas.  \n",
        "Utiliza estructuras de control para verificar que la entrada sea numérica, y maneja excepciones cuando el usuario ingrese datos inválidos.\n",
        "\n",
        "**Ejemplo de salida:**  \n",
        "Seleccione la conversión:\n",
        "\n",
        "Centímetros a pulgadas\n",
        "\n",
        "Kilómetros a millas\n",
        "Opción: 1\n",
        "Ingrese la cantidad en centímetros: 100\n",
        "Resultado: 100 cm = 39.37 pulgadas"
      ]
    },
    {
      "cell_type": "code",
      "execution_count": null,
      "metadata": {
        "colab": {
          "base_uri": "https://localhost:8080/"
        },
        "id": "GKyWs1fd6l7-",
        "outputId": "811d0ae4-4c28-4b8d-e815-239c27fd1c7c"
      },
      "outputs": [
        {
          "name": "stdout",
          "output_type": "stream",
          "text": [
            "Seleccione la conversión:\n",
            "1. Centímetros a pulgadas\n",
            "2. Kilómetros a millas\n",
            "Opción: 2\n",
            "Ingrese el valor en kilómetros: 39\n",
            "39.0 km = 24.23 millas\n"
          ]
        }
      ],
      "source": [
        "def conversor():\n",
        "    from conversiones import cm_a_pulgadas, km_a_millas\n",
        "    try:\n",
        "        print(\"Seleccione la conversión:\")\n",
        "        print(\"1. Centímetros a pulgadas\")\n",
        "        print(\"2. Kilómetros a millas\")\n",
        "        opcion = int(input(\"Opción: \"))\n",
        "\n",
        "        if opcion == 1:\n",
        "            valor = float(input(\"Ingrese el valor en centímetros: \"))\n",
        "            resultado = cm_a_pulgadas(valor)\n",
        "            print(f\"{valor} cm = {resultado:.2f} pulgadas\")\n",
        "\n",
        "        elif opcion == 2:\n",
        "            valor = float(input(\"Ingrese el valor en kilómetros: \"))\n",
        "            resultado = km_a_millas(valor)\n",
        "            print(f\"{valor} km = {resultado:.2f} millas\")\n",
        "\n",
        "        else:\n",
        "            print(\" Opción no válida.\")\n",
        "\n",
        "    except ValueError:\n",
        "        print(\"Error: Ingrese un número válido.\")\n",
        "\n",
        "conversor()\n"
      ]
    },
    {
      "cell_type": "markdown",
      "metadata": {
        "id": "URrBcrPOG1hx"
      },
      "source": [
        "\n",
        "---\n",
        "\n",
        "## Ejercicio 5: Juego \"Adivina el Número\"\n",
        "\n",
        "**Descripción:**  \n",
        "Implementa un juego en el que la computadora selecciona aleatoriamente un número en un rango (por ejemplo, 1 a 50) y el usuario debe adivinarlo.  \n",
        "- Emplea el módulo `random` para generar el número secreto.  \n",
        "- Utiliza un bucle que permita múltiples intentos, con retroalimentación indicando si el número ingresado es mayor o menor que el secreto.  \n",
        "- Gestiona excepciones para capturar entradas no numéricas.\n",
        "\n",
        "**Ejemplo de salida:**  \n",
        "¡Bienvenido al juego \"Adivina el Número\"!\n",
        "Estoy pensando en un número entre 1 y 50.\n",
        "Intento 1 - Ingresa tu número: 25\n",
        "El número secreto es mayor.\n",
        "Intento 2 - Ingresa tu número: 35\n",
        "El número secreto es menor.\n",
        "Intento 3 - Ingresa tu número: 30\n",
        "¡Felicidades! Has adivinado el número secreto: 30"
      ]
    },
    {
      "cell_type": "code",
      "execution_count": null,
      "metadata": {
        "colab": {
          "base_uri": "https://localhost:8080/"
        },
        "id": "K-rLVPNWC-sF",
        "outputId": "aa0875ec-463e-4233-af57-848ae6147c9d"
      },
      "outputs": [
        {
          "name": "stdout",
          "output_type": "stream",
          "text": [
            "¡Bienvenido al juego 'Adivina el Número'!\n",
            "Estoy pensando en un número del 1 al 50, ¡a ver si puedes adivinarlo!\n",
            "El número secreto es menor.\n",
            "El número secreto es menor.\n",
            "El número secreto es menor.\n",
            "El número secreto es menor.\n",
            "El número secreto es mayor.\n",
            "El número secreto es menor.\n"
          ]
        }
      ],
      "source": [
        "def advinar_numero():\n",
        "    import random\n",
        "\n",
        "    print(\"¡Bienvenido al juego 'Adivina el Número'!\")\n",
        "    print(\"Estoy pensando en un número del 1 al 50, ¡a ver si puedes adivinarlo!\")\n",
        "\n",
        "    numero_secreto = random.randint(1, 50)\n",
        "    intentos = 0\n",
        "\n",
        "    while True:\n",
        "        try:\n",
        "            intentos += 1\n",
        "            numero_usuario = int(input(f\"Intento {intentos} - Ingresa tu número: \"))\n",
        "\n",
        "            if numero_usuario < numero_secreto:\n",
        "                print(\"El número secreto es mayor.\")\n",
        "            elif numero_usuario > numero_secreto:\n",
        "                print(\"El número secreto es menor.\")\n",
        "            else:\n",
        "                print(f\"¡Felicidades! Has adivinado el número secreto: {numero_secreto}\")\n",
        "                break\n",
        "\n",
        "        except ValueError:\n",
        "            print(\" Error: Ingrese un número válido.\")\n",
        "            continue\n",
        "\n",
        "advinar_numero()\n"
      ]
    },
    {
      "cell_type": "markdown",
      "metadata": {
        "id": "UgVTbsEqG1hz"
      },
      "source": [
        "\n",
        "---\n",
        "\n",
        "## Ejercicio 6: Calculadora de Factorial\n",
        "\n",
        "**Descripción:**  \n",
        "Crea una función que calcule el factorial de un número entero ingresado por el usuario.  \n",
        "- La función debe utilizar estructuras de control para iterar (o una solución recursiva) y calcular el factorial.  \n",
        "- Implementa manejo de excepciones para asegurarte de que el número ingresado es entero y no negativo.\n",
        "\n",
        "**Ejemplo de salida:**  \n",
        "Ingrese un número entero para calcular su factorial: 5\n",
        "El factorial de 5 es 120"
      ]
    },
    {
      "cell_type": "code",
      "execution_count": null,
      "metadata": {
        "id": "9aT5135HHfov",
        "outputId": "6da44c45-0320-4c2a-b5d9-91dd310884af"
      },
      "outputs": [
        {
          "name": "stdout",
          "output_type": "stream",
          "text": [
            "El factorial de 5 es 120\n"
          ]
        }
      ],
      "source": [
        "def calculadora_factorial():\n",
        "\n",
        "    try:\n",
        "        numero = int(input(\"Ingrese un número entero para calcular su factorial: \"))\n",
        "\n",
        "        if numero < 0:\n",
        "            raise ValueError(\"El número debe ser entero y positivo.\")\n",
        "\n",
        "        factorial = 1\n",
        "        for i in range(1, numero + 1):\n",
        "            factorial *= i\n",
        "\n",
        "        print(f\"El factorial de {numero} es {factorial}\")\n",
        "\n",
        "    except ValueError:\n",
        "        print(\"Error: Ingresa un número entero no negativo.\")\n",
        "\n",
        "calculadora_factorial()"
      ]
    },
    {
      "cell_type": "markdown",
      "metadata": {
        "id": "rHvTmIVLG1hz"
      },
      "source": [
        "\n",
        "---\n",
        "\n",
        "## Ejercicio 7: Manejo de Fechas y Horas\n",
        "\n",
        "**Descripción:**  \n",
        "Desarrolla una función que reciba una fecha ingresada por el usuario en formato \"DD/MM/AAAA\" y determine cuántos días faltan para esa fecha a partir de hoy.  \n",
        "- Importa el módulo `datetime` para trabajar con fechas.  \n",
        "- Utiliza estructuras de control para validar el formato y maneja excepciones en caso de error en el ingreso de la fecha.\n",
        "\n",
        "**Ejemplo de salida:**  \n",
        "Ingrese una fecha (DD/MM/AAAA): 25/12/2023\n",
        "Faltan 150 días para el 25/12/2023."
      ]
    },
    {
      "cell_type": "code",
      "execution_count": null,
      "metadata": {
        "id": "f_0hfLKBHfow",
        "outputId": "fc2e71b0-a454-4a6a-ac90-b03efbfd9344"
      },
      "outputs": [
        {
          "name": "stdout",
          "output_type": "stream",
          "text": [
            "Faltan 249 días para el 25/12/2025.\n"
          ]
        }
      ],
      "source": [
        "def Fecha_ingresada():\n",
        "    import datetime\n",
        "\n",
        "    try:\n",
        "\n",
        "        fecha = input(\"Ingrese una fecha (DD/MM/AAAA): \")\n",
        "\n",
        "        fecha_ingresada = datetime.datetime.strptime(fecha, \"%d/%m/%Y\")\n",
        "\n",
        "        fecha_actual = datetime.datetime.now()\n",
        "\n",
        "        diferencia = fecha_ingresada - fecha_actual\n",
        "\n",
        "        if diferencia.days > 0:\n",
        "            print(f\"Faltan {diferencia.days} días para el {fecha_ingresada.strftime('%d/%m/%Y')}.\")\n",
        "        elif diferencia.days == 0:\n",
        "            print(f\"¡Hoy es el día! ({fecha_ingresada.strftime('%d/%m/%Y')})\")\n",
        "        else:\n",
        "            print(f\"La fecha {fecha_ingresada.strftime('%d/%m/%Y')} ya pasó hace {-diferencia.days} días.\")\n",
        "\n",
        "    except ValueError as e:\n",
        "        print(\" Error: Formato de fecha inválido. Debe ser DD/MM/AAAA\")\n",
        "\n",
        "Fecha_ingresada()"
      ]
    },
    {
      "cell_type": "markdown",
      "metadata": {
        "id": "yEASTbqeG1h0"
      },
      "source": [
        "\n",
        "---\n",
        "\n",
        "## Ejercicio 8: Registro de Estudiantes\n",
        "\n",
        "**Descripción:**  \n",
        "Implementa un sistema que gestione un registro de estudiantes utilizando un diccionario, donde la clave sea el nombre y el valor la calificación.  \n",
        "- Crea funciones para agregar un estudiante, actualizar la calificación, eliminar estudiantes y listar todo el registro.  \n",
        "- Utiliza un bucle para mostrar un menú interactivo al usuario.  \n",
        "- Maneja excepciones para gestionar errores en la selección de opciones o al intentar modificar un estudiante inexistente.\n",
        "\n",
        "**Ejemplo de salida:**  \n",
        "Registro de estudiantes inicial: {'Ana': 90, 'Luis': 78, 'Carlos': 85}\n",
        "\n",
        "Menú:\n",
        "\n",
        "Agregar estudiante\n",
        "\n",
        "Actualizar calificación\n",
        "\n",
        "Eliminar estudiante\n",
        "\n",
        "Listar estudiantes\n",
        "\n",
        "Salir\n",
        "\n",
        "Opción: 2\n",
        "Ingrese el nombre del estudiante: Luis\n",
        "Ingrese la nueva calificación: 82\n",
        "Estudiante actualizado: Luis - 82\n",
        "\n",
        "Registro final: {'Ana': 90, 'Luis': 82, 'Carlos': 85}"
      ]
    },
    {
      "cell_type": "code",
      "execution_count": null,
      "metadata": {
        "id": "2ZBzDm2vHfox",
        "outputId": "1d1901c3-27e8-48ee-cc02-4a9b1ded0f4d"
      },
      "outputs": [
        {
          "name": "stdout",
          "output_type": "stream",
          "text": [
            "Registro de estuduanteas inicial: {'Ana': 90, 'Luis': 78, 'Carlos': 85}\n",
            "Estudiante 'Pedro' agregado con nota 95.\n",
            "Ingrese el nombre del estudiante: Luis\n",
            "Ingrese la nueva calificación: Luis: 82\n",
            "Estudiante Actualizado Luis - 82.\n",
            "Eliminando 'Pedro'...\n",
            "Registro final: {'Ana': 90, 'Luis': 82, 'Carlos': 85}\n"
          ]
        }
      ],
      "source": [
        "registro = {'Ana':90, 'Luis':78, 'Carlos':85}\n",
        "\n",
        "\n",
        "def mostrar_registro(muestra):\n",
        "    print(f\"{muestra} {registro}\")\n",
        "\n",
        "def agregar_estudiante(nombre, nota):\n",
        "    print(f\"Estudiante '{nombre}' agregado con nota {nota}.\")\n",
        "    registro[nombre] = nota\n",
        "\n",
        "def Actualizar_calificacion(nombre, nota):\n",
        "    try:\n",
        "        if nombre in registro:\n",
        "            print(f\"Ingrese el nombre del estudiante: {nombre}\")\n",
        "            print(f\"Ingrese la nueva calificación: {nombre}: {nota}\")\n",
        "            print(f\"Estudiante Actualizado {nombre} - {nota}.\")\n",
        "            registro[nombre] = nota\n",
        "        else:\n",
        "            raise KeyError(f\"Error: El estudiante '{nombre}' no existe en el registro.\")\n",
        "    except KeyError as e:\n",
        "        print(e)\n",
        "\n",
        "def Eliminar_estudiante(nombre):\n",
        "    try:\n",
        "        print(f\"Eliminando '{nombre}'...\")\n",
        "        if nombre in registro:\n",
        "            del registro[nombre]\n",
        "        else:\n",
        "            raise KeyError(f\"Error: El estudiante '{nombre}' no se puede eliminar porque no existe.\")\n",
        "    except KeyError as e:\n",
        "        print(e)\n",
        "\n",
        "mostrar_registro(\"Registro de estuduanteas inicial:\")\n",
        "\n",
        "agregar_estudiante(\"Pedro\", 95)\n",
        "\n",
        "Actualizar_calificacion(\"Luis\", 82)\n",
        "\n",
        "Eliminar_estudiante(\"Pedro\")\n",
        "\n",
        "mostrar_registro(\"Registro final:\")\n",
        "\n"
      ]
    },
    {
      "cell_type": "markdown",
      "metadata": {
        "id": "kf_vCymVG1h0"
      },
      "source": [
        "\n",
        "---\n",
        "\n",
        "## Ejercicio 9: Generador de Contraseñas Aleatorias\n",
        "\n",
        "**Descripción:**  \n",
        "Crea una función que genere una contraseña aleatoria de una longitud especificada por el usuario.  \n",
        "- Utiliza el módulo `random` junto con la biblioteca `string` para construir la contraseña a partir de letras (mayúsculas y minúsculas), dígitos y caracteres especiales.  \n",
        "- Valida la entrada y maneja excepciones para asegurarte de que la longitud es un número entero positivo.\n",
        "\n",
        "**Ejemplo de salida:**  \n",
        "Ingrese la longitud deseada para la contraseña: 10\n",
        "Contraseña generada: A8b#K3d!Qz"
      ]
    },
    {
      "cell_type": "code",
      "execution_count": null,
      "metadata": {
        "id": "pVqOqSF5Hfo1",
        "outputId": "4043bb62-6265-423b-abb6-74ddabb37f36"
      },
      "outputs": [
        {
          "name": "stdout",
          "output_type": "stream",
          "text": [
            "Contraseña generada: E8LRT3MBy0\n"
          ]
        }
      ],
      "source": [
        "def contraseña():\n",
        "    import random\n",
        "    import string\n",
        "\n",
        "\n",
        "\n",
        "    try:\n",
        "        contraseña_aleatoria = int(input(f\"Ingrese la logitud deseada para la contraseña: \"))\n",
        "\n",
        "        if contraseña_aleatoria < 1:\n",
        "            raise ValueError(\"La longitud de la contraseña debe ser mayor que 0.\")\n",
        "        caracteres = string.ascii_letters + string.digits + string.punctuation\n",
        "        contraseña = ''.join(random.choice(caracteres) for _ in range(contraseña_aleatoria))\n",
        "\n",
        "        print(f\"Contraseña generada: {contraseña}\")\n",
        "    except ValueError:\n",
        "        print(\"Error: Ingrese un número válido.\")\n",
        "\n",
        "contraseña()\n"
      ]
    },
    {
      "cell_type": "markdown",
      "metadata": {
        "id": "k5brncKPG1h1"
      },
      "source": [
        "\n",
        "---\n",
        "\n",
        "## Ejercicio 10: Buscador de Archivos en un Directorio\n",
        "\n",
        "**Descripción:**  \n",
        "Desarrolla una función que reciba el nombre de un directorio y una subcadena para buscar archivos cuyo nombre la contenga.  \n",
        "- Utiliza el módulo `os` para listar el contenido del directorio.  \n",
        "- Aplica estructuras de control para filtrar los archivos según la subcadena.  \n",
        "- Implementa manejo de excepciones para controlar errores como directorio no existente o permisos insuficientes.\n",
        "\n",
        "**Ejemplo de salida:**  \n",
        "Ingrese la ruta del directorio: /ruta/al/directorio\n",
        "Ingrese la subcadena a buscar: reporte\n",
        "Archivos encontrados que contienen \"reporte\":\n",
        "\n",
        "reporte_enero.pdf\n",
        "\n",
        "reporte_febrero.xlsx\n",
        "\n",
        "resumen_reporte.txt"
      ]
    },
    {
      "cell_type": "code",
      "execution_count": null,
      "metadata": {
        "id": "j8XiwrkkHfo2",
        "outputId": "d45479d9-6d92-4fe8-f547-96a56bcc0ee9"
      },
      "outputs": [
        {
          "name": "stdout",
          "output_type": "stream",
          "text": [
            "Archivos encontrados con la subcadena :reporte\n",
            "reporte_enero.pdf\n",
            "reporte_febrero.xlsx\n",
            "resumen_reporte.txt\n"
          ]
        }
      ],
      "source": [
        "def Buscar_archivos ():\n",
        "    import os\n",
        "\n",
        "    try:\n",
        "        ruta = input(\"Ingrese la ruta del directorio: /ruta/al/directorio \")\n",
        "        rutas = \"C:/Users/Usuario/Documentos/\"\n",
        "        subcadena = input(\"Ingrese la subcadena a buscar: \")\n",
        "\n",
        "        if not os.path.isdir(ruta):\n",
        "            raise FileNotFoundError(f\"La ruta '{ruta}' no es un directorio válido.\")\n",
        "\n",
        "        archivos_encontrados = [f for f in os.listdir(ruta) if subcadena.lower() in f.lower()]\n",
        "\n",
        "        if archivos_encontrados:\n",
        "            print(f\"Archivos encontrados con la subcadena :{subcadena}\")\n",
        "            for archivo in archivos_encontrados:\n",
        "                print(archivo)\n",
        "        else:\n",
        "            print(f\"No se encontraron archivos con la extensión {subcadena} en {ruta}.\")\n",
        "\n",
        "    except PermissionError:\n",
        "        print(\"Error: Permisos insuficientes .\")\n",
        "    except FileNotFoundError as e:\n",
        "        print(f\"Directorio no existente: {e}\")\n",
        "\n",
        "Buscar_archivos ()"
      ]
    }
  ],
  "metadata": {
    "colab": {
      "provenance": []
    },
    "kernelspec": {
      "display_name": "Python 3",
      "name": "python3"
    },
    "language_info": {
      "codemirror_mode": {
        "name": "ipython",
        "version": 3
      },
      "file_extension": ".py",
      "mimetype": "text/x-python",
      "name": "python",
      "nbconvert_exporter": "python",
      "pygments_lexer": "ipython3",
      "version": "3.13.3"
    }
  },
  "nbformat": 4,
  "nbformat_minor": 0
}